{
 "cells": [
  {
   "cell_type": "markdown",
   "metadata": {},
   "source": [
    "# HW4 PRANAV PRAJAPATI"
   ]
  },
  {
   "cell_type": "markdown",
   "metadata": {},
   "source": [
    "Q1)"
   ]
  },
  {
   "cell_type": "code",
   "execution_count": null,
   "metadata": {},
   "outputs": [],
   "source": [
    "library('tidyverse')\n",
    "library('dplyr')\n",
    "baby_names <- read_csv(\"http://personal.stevens.edu/~fmai/data/Most_Popular_Baby_Names.csv\")\n",
    "\n"
   ]
  },
  {
   "cell_type": "code",
   "execution_count": 2,
   "metadata": {},
   "outputs": [
    {
     "data": {
      "text/html": [
       "<ol class=list-inline>\n",
       "\t<li>13962</li>\n",
       "\t<li>5</li>\n",
       "</ol>\n"
      ],
      "text/latex": [
       "\\begin{enumerate*}\n",
       "\\item 13962\n",
       "\\item 5\n",
       "\\end{enumerate*}\n"
      ],
      "text/markdown": [
       "1. 13962\n",
       "2. 5\n",
       "\n",
       "\n"
      ],
      "text/plain": [
       "[1] 13962     5"
      ]
     },
     "metadata": {},
     "output_type": "display_data"
    }
   ],
   "source": [
    "dim(baby_names)"
   ]
  },
  {
   "cell_type": "code",
   "execution_count": 3,
   "metadata": {},
   "outputs": [],
   "source": [
    "baby_names <- baby_names %>% filter(BRTH_YR >= 2012)\n"
   ]
  },
  {
   "cell_type": "code",
   "execution_count": 7,
   "metadata": {},
   "outputs": [],
   "source": [
    "baby_names$Name <- tolower(baby_names$Name)"
   ]
  },
  {
   "cell_type": "code",
   "execution_count": 8,
   "metadata": {},
   "outputs": [
    {
     "data": {
      "text/html": [
       "<table>\n",
       "<thead><tr><th scope=col>BRTH_YR</th><th scope=col>Gender</th><th scope=col>ETHCTY</th><th scope=col>Name</th><th scope=col>Count</th></tr></thead>\n",
       "<tbody>\n",
       "\t<tr><td>2012          </td><td>FEMALE        </td><td>ASIAN AND PACI</td><td>abby          </td><td>11            </td></tr>\n",
       "\t<tr><td>2012          </td><td>FEMALE        </td><td>ASIAN AND PACI</td><td>abigail       </td><td>29            </td></tr>\n",
       "\t<tr><td>2012          </td><td>FEMALE        </td><td>ASIAN AND PACI</td><td>ada           </td><td>12            </td></tr>\n",
       "\t<tr><td>2012          </td><td>FEMALE        </td><td>ASIAN AND PACI</td><td>aisha         </td><td>11            </td></tr>\n",
       "\t<tr><td>2012          </td><td>FEMALE        </td><td>ASIAN AND PACI</td><td>alexandra     </td><td>12            </td></tr>\n",
       "\t<tr><td>2012          </td><td>FEMALE        </td><td>ASIAN AND PACI</td><td>alexis        </td><td>18            </td></tr>\n",
       "</tbody>\n",
       "</table>\n"
      ],
      "text/latex": [
       "\\begin{tabular}{r|lllll}\n",
       " BRTH\\_YR & Gender & ETHCTY & Name & Count\\\\\n",
       "\\hline\n",
       "\t 2012           & FEMALE         & ASIAN AND PACI & abby           & 11            \\\\\n",
       "\t 2012           & FEMALE         & ASIAN AND PACI & abigail        & 29            \\\\\n",
       "\t 2012           & FEMALE         & ASIAN AND PACI & ada            & 12            \\\\\n",
       "\t 2012           & FEMALE         & ASIAN AND PACI & aisha          & 11            \\\\\n",
       "\t 2012           & FEMALE         & ASIAN AND PACI & alexandra      & 12            \\\\\n",
       "\t 2012           & FEMALE         & ASIAN AND PACI & alexis         & 18            \\\\\n",
       "\\end{tabular}\n"
      ],
      "text/markdown": [
       "\n",
       "BRTH_YR | Gender | ETHCTY | Name | Count | \n",
       "|---|---|---|---|---|---|\n",
       "| 2012           | FEMALE         | ASIAN AND PACI | abby           | 11             | \n",
       "| 2012           | FEMALE         | ASIAN AND PACI | abigail        | 29             | \n",
       "| 2012           | FEMALE         | ASIAN AND PACI | ada            | 12             | \n",
       "| 2012           | FEMALE         | ASIAN AND PACI | aisha          | 11             | \n",
       "| 2012           | FEMALE         | ASIAN AND PACI | alexandra      | 12             | \n",
       "| 2012           | FEMALE         | ASIAN AND PACI | alexis         | 18             | \n",
       "\n",
       "\n"
      ],
      "text/plain": [
       "  BRTH_YR Gender ETHCTY         Name      Count\n",
       "1 2012    FEMALE ASIAN AND PACI abby      11   \n",
       "2 2012    FEMALE ASIAN AND PACI abigail   29   \n",
       "3 2012    FEMALE ASIAN AND PACI ada       12   \n",
       "4 2012    FEMALE ASIAN AND PACI aisha     11   \n",
       "5 2012    FEMALE ASIAN AND PACI alexandra 12   \n",
       "6 2012    FEMALE ASIAN AND PACI alexis    18   "
      ]
     },
     "metadata": {},
     "output_type": "display_data"
    }
   ],
   "source": [
    "head(baby_names)"
   ]
  },
  {
   "cell_type": "markdown",
   "metadata": {},
   "source": [
    "# a)"
   ]
  },
  {
   "cell_type": "code",
   "execution_count": 10,
   "metadata": {},
   "outputs": [
    {
     "data": {
      "text/html": [
       "<table>\n",
       "<thead><tr><th scope=col>Total_observations</th><th scope=col>UNIQUE_names</th></tr></thead>\n",
       "<tbody>\n",
       "\t<tr><td>6110</td><td>1541</td></tr>\n",
       "</tbody>\n",
       "</table>\n"
      ],
      "text/latex": [
       "\\begin{tabular}{r|ll}\n",
       " Total\\_observations & UNIQUE\\_names\\\\\n",
       "\\hline\n",
       "\t 6110 & 1541\\\\\n",
       "\\end{tabular}\n"
      ],
      "text/markdown": [
       "\n",
       "Total_observations | UNIQUE_names | \n",
       "|---|\n",
       "| 6110 | 1541 | \n",
       "\n",
       "\n"
      ],
      "text/plain": [
       "  Total_observations UNIQUE_names\n",
       "1 6110               1541        "
      ]
     },
     "metadata": {},
     "output_type": "display_data"
    }
   ],
   "source": [
    "summarise(baby_names, Total_observations = n(), UNIQUE_names = n_distinct(Name)) "
   ]
  },
  {
   "cell_type": "markdown",
   "metadata": {},
   "source": [
    "# b)"
   ]
  },
  {
   "cell_type": "code",
   "execution_count": 13,
   "metadata": {},
   "outputs": [
    {
     "data": {
      "text/html": [
       "<table>\n",
       "<thead><tr><th scope=col>BRTH_YR</th><th scope=col>ETHCTY</th><th scope=col>Count_of_Babies</th></tr></thead>\n",
       "<tbody>\n",
       "\t<tr><td>2012                      </td><td>ASIAN AND PACI            </td><td>10300                     </td></tr>\n",
       "\t<tr><td>2012                      </td><td>BLACK NON HISP            </td><td>10208                     </td></tr>\n",
       "\t<tr><td>2012                      </td><td>HISPANIC                  </td><td>23547                     </td></tr>\n",
       "\t<tr><td>2012                      </td><td>WHITE NON HISP            </td><td>26675                     </td></tr>\n",
       "\t<tr><td>2013                      </td><td>ASIAN AND PACIFIC ISLANDER</td><td> 9293                     </td></tr>\n",
       "\t<tr><td>2013                      </td><td>BLACK NON HISPANIC        </td><td>10144                     </td></tr>\n",
       "\t<tr><td>2013                      </td><td>HISPANIC                  </td><td>23067                     </td></tr>\n",
       "\t<tr><td>2013                      </td><td>WHITE NON HISPANIC        </td><td>26840                     </td></tr>\n",
       "\t<tr><td>2014                      </td><td>ASIAN AND PACIFIC ISLANDER</td><td> 9834                     </td></tr>\n",
       "\t<tr><td>2014                      </td><td>BLACK NON HISPANIC        </td><td> 9957                     </td></tr>\n",
       "\t<tr><td>2014                      </td><td>HISPANIC                  </td><td>22855                     </td></tr>\n",
       "\t<tr><td>2014                      </td><td>WHITE NON HISPANIC        </td><td>27715                     </td></tr>\n",
       "</tbody>\n",
       "</table>\n"
      ],
      "text/latex": [
       "\\begin{tabular}{r|lll}\n",
       " BRTH\\_YR & ETHCTY & Count\\_of\\_Babies\\\\\n",
       "\\hline\n",
       "\t 2012                       & ASIAN AND PACI             & 10300                     \\\\\n",
       "\t 2012                       & BLACK NON HISP             & 10208                     \\\\\n",
       "\t 2012                       & HISPANIC                   & 23547                     \\\\\n",
       "\t 2012                       & WHITE NON HISP             & 26675                     \\\\\n",
       "\t 2013                       & ASIAN AND PACIFIC ISLANDER &  9293                     \\\\\n",
       "\t 2013                       & BLACK NON HISPANIC         & 10144                     \\\\\n",
       "\t 2013                       & HISPANIC                   & 23067                     \\\\\n",
       "\t 2013                       & WHITE NON HISPANIC         & 26840                     \\\\\n",
       "\t 2014                       & ASIAN AND PACIFIC ISLANDER &  9834                     \\\\\n",
       "\t 2014                       & BLACK NON HISPANIC         &  9957                     \\\\\n",
       "\t 2014                       & HISPANIC                   & 22855                     \\\\\n",
       "\t 2014                       & WHITE NON HISPANIC         & 27715                     \\\\\n",
       "\\end{tabular}\n"
      ],
      "text/markdown": [
       "\n",
       "BRTH_YR | ETHCTY | Count_of_Babies | \n",
       "|---|---|---|---|---|---|---|---|---|---|---|---|\n",
       "| 2012                       | ASIAN AND PACI             | 10300                      | \n",
       "| 2012                       | BLACK NON HISP             | 10208                      | \n",
       "| 2012                       | HISPANIC                   | 23547                      | \n",
       "| 2012                       | WHITE NON HISP             | 26675                      | \n",
       "| 2013                       | ASIAN AND PACIFIC ISLANDER |  9293                      | \n",
       "| 2013                       | BLACK NON HISPANIC         | 10144                      | \n",
       "| 2013                       | HISPANIC                   | 23067                      | \n",
       "| 2013                       | WHITE NON HISPANIC         | 26840                      | \n",
       "| 2014                       | ASIAN AND PACIFIC ISLANDER |  9834                      | \n",
       "| 2014                       | BLACK NON HISPANIC         |  9957                      | \n",
       "| 2014                       | HISPANIC                   | 22855                      | \n",
       "| 2014                       | WHITE NON HISPANIC         | 27715                      | \n",
       "\n",
       "\n"
      ],
      "text/plain": [
       "   BRTH_YR ETHCTY                     Count_of_Babies\n",
       "1  2012    ASIAN AND PACI             10300          \n",
       "2  2012    BLACK NON HISP             10208          \n",
       "3  2012    HISPANIC                   23547          \n",
       "4  2012    WHITE NON HISP             26675          \n",
       "5  2013    ASIAN AND PACIFIC ISLANDER  9293          \n",
       "6  2013    BLACK NON HISPANIC         10144          \n",
       "7  2013    HISPANIC                   23067          \n",
       "8  2013    WHITE NON HISPANIC         26840          \n",
       "9  2014    ASIAN AND PACIFIC ISLANDER  9834          \n",
       "10 2014    BLACK NON HISPANIC          9957          \n",
       "11 2014    HISPANIC                   22855          \n",
       "12 2014    WHITE NON HISPANIC         27715          "
      ]
     },
     "metadata": {},
     "output_type": "display_data"
    }
   ],
   "source": [
    "baby_names %>%\n",
    "group_by(BRTH_YR,ETHCTY) %>%\n",
    "summarise( Count_of_Babies = sum(Count))"
   ]
  },
  {
   "cell_type": "markdown",
   "metadata": {},
   "source": [
    "# c)"
   ]
  },
  {
   "cell_type": "code",
   "execution_count": 48,
   "metadata": {},
   "outputs": [
    {
     "data": {
      "text/html": [
       "<table>\n",
       "<thead><tr><th scope=col>BRTH_YR</th><th scope=col>Name</th><th scope=col>tots</th><th scope=col>rank</th></tr></thead>\n",
       "<tbody>\n",
       "\t<tr><td>2012  </td><td>jayden</td><td>752   </td><td>1     </td></tr>\n",
       "\t<tr><td>2012  </td><td>ethan </td><td>723   </td><td>2     </td></tr>\n",
       "\t<tr><td>2012  </td><td>jacob </td><td>641   </td><td>3     </td></tr>\n",
       "\t<tr><td>2013  </td><td>jayden</td><td>742   </td><td>1     </td></tr>\n",
       "\t<tr><td>2013  </td><td>ethan </td><td>688   </td><td>2     </td></tr>\n",
       "\t<tr><td>2013  </td><td>jacob </td><td>654   </td><td>3     </td></tr>\n",
       "\t<tr><td>2014  </td><td>ethan </td><td>728   </td><td>1     </td></tr>\n",
       "\t<tr><td>2014  </td><td>jacob </td><td>669   </td><td>2     </td></tr>\n",
       "\t<tr><td>2014  </td><td>liam  </td><td>625   </td><td>3     </td></tr>\n",
       "</tbody>\n",
       "</table>\n"
      ],
      "text/latex": [
       "\\begin{tabular}{r|llll}\n",
       " BRTH\\_YR & Name & tots & rank\\\\\n",
       "\\hline\n",
       "\t 2012   & jayden & 752    & 1     \\\\\n",
       "\t 2012   & ethan  & 723    & 2     \\\\\n",
       "\t 2012   & jacob  & 641    & 3     \\\\\n",
       "\t 2013   & jayden & 742    & 1     \\\\\n",
       "\t 2013   & ethan  & 688    & 2     \\\\\n",
       "\t 2013   & jacob  & 654    & 3     \\\\\n",
       "\t 2014   & ethan  & 728    & 1     \\\\\n",
       "\t 2014   & jacob  & 669    & 2     \\\\\n",
       "\t 2014   & liam   & 625    & 3     \\\\\n",
       "\\end{tabular}\n"
      ],
      "text/markdown": [
       "\n",
       "BRTH_YR | Name | tots | rank | \n",
       "|---|---|---|---|---|---|---|---|---|\n",
       "| 2012   | jayden | 752    | 1      | \n",
       "| 2012   | ethan  | 723    | 2      | \n",
       "| 2012   | jacob  | 641    | 3      | \n",
       "| 2013   | jayden | 742    | 1      | \n",
       "| 2013   | ethan  | 688    | 2      | \n",
       "| 2013   | jacob  | 654    | 3      | \n",
       "| 2014   | ethan  | 728    | 1      | \n",
       "| 2014   | jacob  | 669    | 2      | \n",
       "| 2014   | liam   | 625    | 3      | \n",
       "\n",
       "\n"
      ],
      "text/plain": [
       "  BRTH_YR Name   tots rank\n",
       "1 2012    jayden 752  1   \n",
       "2 2012    ethan  723  2   \n",
       "3 2012    jacob  641  3   \n",
       "4 2013    jayden 742  1   \n",
       "5 2013    ethan  688  2   \n",
       "6 2013    jacob  654  3   \n",
       "7 2014    ethan  728  1   \n",
       "8 2014    jacob  669  2   \n",
       "9 2014    liam   625  3   "
      ]
     },
     "metadata": {},
     "output_type": "display_data"
    }
   ],
   "source": [
    "baby_names %>%\n",
    "group_by(BRTH_YR,Name) %>%\n",
    "summarise( tots = sum(Count)) %>%\n",
    "arrange(BRTH_YR, desc(tots))  %>%\n",
    "mutate(rank = rank(desc(tots))) %>%\n",
    "filter(rank <= 3)"
   ]
  }
 ],
 "metadata": {
  "kernelspec": {
   "display_name": "R",
   "language": "R",
   "name": "ir"
  },
  "language_info": {
   "codemirror_mode": "r",
   "file_extension": ".r",
   "mimetype": "text/x-r-source",
   "name": "R",
   "pygments_lexer": "r",
   "version": "3.5.0"
  }
 },
 "nbformat": 4,
 "nbformat_minor": 2
}
